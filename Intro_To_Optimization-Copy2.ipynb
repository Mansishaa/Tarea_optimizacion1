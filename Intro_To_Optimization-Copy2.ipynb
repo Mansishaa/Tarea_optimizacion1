{
 "cells": [
  {
   "cell_type": "markdown",
   "id": "e94c1246",
   "metadata": {
    "id": "e94c1246"
   },
   "source": [
    "# Introducción a la Optimización por Toma de Decisiones\n"
   ]
  },
  {
   "cell_type": "markdown",
   "id": "869a5ade-2e6f-4ccd-8fd6-b4f276cff22f",
   "metadata": {
    "id": "869a5ade-2e6f-4ccd-8fd6-b4f276cff22f"
   },
   "source": [
    "# Parte 1: Maximización/Minimización"
   ]
  },
  {
   "cell_type": "markdown",
   "id": "9c025230-ed6e-40b1-ae5c-03bed5c5c0b7",
   "metadata": {
    "id": "9c025230-ed6e-40b1-ae5c-03bed5c5c0b7"
   },
   "source": [
    "<div class=\"alert-success\">\n",
    "\n",
    "<strong>Exercise: El problema dietético</strong>"
   ]
  },
  {
   "cell_type": "code",
   "execution_count": 125,
   "id": "a7e1cb7a",
   "metadata": {
    "id": "a7e1cb7a"
   },
   "outputs": [
    {
     "data": {
      "text/html": [
       "<iframe src=\"https://docs.google.com/presentation/d/e/2PACX-1vTSq9X74urGAB_5n_MIJ9ZGIboKSvBdokVTBXVLh_qqZnmLRTJioOF431Rzys3Qi9UaFwWXjeq6Wmd5/embed?start=false&loop=false&delayms=3000\" frameborder=\"0\" width=\"960\" height=\"569\" allowfullscreen=\"true\" mozallowfullscreen=\"true\" webkitallowfullscreen=\"true\"></iframe>\n"
      ],
      "text/plain": [
       "<IPython.core.display.HTML object>"
      ]
     },
     "metadata": {},
     "output_type": "display_data"
    }
   ],
   "source": [
    "%%html\n",
    "<iframe src=\"https://docs.google.com/presentation/d/e/2PACX-1vTSq9X74urGAB_5n_MIJ9ZGIboKSvBdokVTBXVLh_qqZnmLRTJioOF431Rzys3Qi9UaFwWXjeq6Wmd5/embed?start=false&loop=false&delayms=3000\" frameborder=\"0\" width=\"960\" height=\"569\" allowfullscreen=\"true\" mozallowfullscreen=\"true\" webkitallowfullscreen=\"true\"></iframe>"
   ]
  },
  {
   "cell_type": "markdown",
   "id": "dd461c8a-8a20-4a93-aa9e-2b46c1deaf52",
   "metadata": {
    "id": "dd461c8a-8a20-4a93-aa9e-2b46c1deaf52"
   },
   "source": [
    "1. **Inicializar el MODELO**: solo escribe el nombre y declara si es un problema de maximización o minimización."
   ]
  },
  {
   "cell_type": "code",
   "execution_count": 51,
   "id": "e495f053-cc4a-4d4c-8aef-7ab6076ec6df",
   "metadata": {
    "id": "4436e0c7"
   },
   "outputs": [],
   "source": [
    "model = pp.LpProblem(name='refinery-problem', # just the name\n",
    "                     sense=pp.LpMaximize) # type of problem\n",
    "\n",
    "model = pp.LpProblem(name='refinery-problem', \n",
    "                     sense=pp.LpMinimize)"
   ]
  },
  {
   "cell_type": "markdown",
   "id": "c001fd3a-190b-45d8-9fa3-c3e21578fa03",
   "metadata": {
    "id": "c001fd3a-190b-45d8-9fa3-c3e21578fa03"
   },
   "source": [
    "2. **Declarar las VARIABLES**: El modelo de la refinería consiste en estas _variables_:"
   ]
  },
  {
   "cell_type": "code",
   "execution_count": 53,
   "id": "015922ed-49e9-4c55-8532-31a40275e05e",
   "metadata": {
    "id": "8533e838-9e02-4ca8-85ef-de557cb1dd7c"
   },
   "outputs": [],
   "source": [
    "Vegavita = pp.LpVariable(name=\"VegaVita\", \n",
    "                         lowBound=0, \n",
    "                         cat='Continuous')\n",
    "HappyHealth = pp.LpVariable(name=\"HappyHealth\", \n",
    "                            lowBound=0, \n",
    "                            cat='Continuous')"
   ]
  },
  {
   "cell_type": "markdown",
   "id": "611438aa-54e1-4cdd-aa77-44702feb498a",
   "metadata": {
    "id": "611438aa-54e1-4cdd-aa77-44702feb498a"
   },
   "source": [
    "3. **Crear función para OPTIMIZAR**: La función es simplemente la combinación lineal de las variables y sus _coeficientes dados_:"
   ]
  },
  {
   "cell_type": "code",
   "execution_count": 55,
   "id": "da16468b-996e-40c0-b599-f87a08c97273",
   "metadata": {
    "id": "e676c256-353d-4fbd-a206-6914f29ff8ba"
   },
   "outputs": [],
   "source": [
    "VegaVitaCoeff = 0.2\n",
    "HappyHealthCoeff = 0.3\n",
    "obj_func = VegaVitaCoeff * Vegavita + HappyHealthCoeff * HappyHealth"
   ]
  },
  {
   "cell_type": "markdown",
   "id": "65a5c48f-d28c-489a-bcd4-f97be76b57c7",
   "metadata": {
    "id": "65a5c48f-d28c-489a-bcd4-f97be76b57c7"
   },
   "source": [
    "4. **Representar las restricciones**: Estas son las reglas que el modelo (conjunto de variables) debe cumplir:"
   ]
  },
  {
   "cell_type": "code",
   "execution_count": 57,
   "id": "ef98e836-0592-4fee-83ca-9da628509633",
   "metadata": {
    "id": "c24146f7-5db5-4606-90fd-9bc010685754"
   },
   "outputs": [],
   "source": [
    "# SUBJECT TO:\n",
    "C1 = pp.LpConstraint(name='VitaminC Constraint',\n",
    "                     e=20 * Vegavita + 30 * HappyHealth,\n",
    "                     rhs=60,\n",
    "                     sense=pp.LpConstraintGE)\n",
    "\n",
    "C2 = pp.LpConstraint(name='Calcium Constraint',\n",
    "                     e=500 * Vegavita + 250 * HappyHealth,\n",
    "                     rhs=1000,\n",
    "                     sense=pp.LpConstraintGE)\n",
    "\n",
    "C3 = pp.LpConstraint(name='Iron Constraint',\n",
    "                     e=9 * Vegavita + 2 * HappyHealth,\n",
    "                     rhs=18,\n",
    "                     sense=pp.LpConstraintGE)\n",
    "\n",
    "C4 = pp.LpConstraint(name='Niacin Constraint',\n",
    "                     e=2 * Vegavita + 10 * HappyHealth,\n",
    "                     rhs=20,\n",
    "                     sense=pp.LpConstraintGE)\n",
    "\n",
    "C5 = pp.LpConstraint(name='Magnesium Constraint',\n",
    "                     e=60 * Vegavita + 90 * HappyHealth,\n",
    "                     rhs=360,\n",
    "                     sense=pp.LpConstraintGE)"
   ]
  },
  {
   "cell_type": "markdown",
   "id": "10465ba5-03d5-41d0-9e65-b4c13d8a8728",
   "metadata": {
    "id": "10465ba5-03d5-41d0-9e65-b4c13d8a8728"
   },
   "source": [
    "5. **Construir el MODELO**: Aquí agregas (i) la función objetivo y (ii) todas las restricciones."
   ]
  },
  {
   "cell_type": "code",
   "execution_count": 59,
   "id": "d32bbba5-9dbb-4fe0-bb37-00062675731e",
   "metadata": {
    "id": "44dd2783-49c1-44fd-952b-47743c9d4686"
   },
   "outputs": [],
   "source": [
    "model += obj_func\n",
    "model += C1\n",
    "model += C2\n",
    "model += C3\n",
    "model += C4\n",
    "model += C5\n"
   ]
  },
  {
   "cell_type": "markdown",
   "id": "2a332886-694b-40d8-98d3-e27066b28e96",
   "metadata": {
    "id": "2a332886-694b-40d8-98d3-e27066b28e96"
   },
   "source": [
    "6. **Resolver el MODELO**: Observa que no estamos usando el _solucionador predeterminado_; estamos usando explícitamente **COIN_CMD**."
   ]
  },
  {
   "cell_type": "code",
   "execution_count": 61,
   "id": "fbcc9ac9-9172-4a0f-a383-d7f55166239d",
   "metadata": {
    "id": "531d75fa-6e19-4ef4-9170-31aef8b88fa0"
   },
   "outputs": [
    {
     "name": "stdout",
     "output_type": "stream",
     "text": [
      "['GLPK_CMD', 'PYGLPK', 'CPLEX_CMD', 'CPLEX_PY', 'GUROBI', 'GUROBI_CMD', 'MOSEK', 'XPRESS', 'XPRESS', 'XPRESS_PY', 'PULP_CBC_CMD', 'COIN_CMD', 'COINMP_DLL', 'CHOCO_CMD', 'MIPCL_CMD', 'SCIP_CMD', 'FSCIP_CMD', 'SCIP_PY', 'HiGHS', 'HiGHS_CMD', 'COPT', 'COPT_DLL', 'COPT_CMD']\n",
      "Available Solvers: ['GLPK_CMD', 'PYGLPK', 'CPLEX_CMD', 'CPLEX_PY', 'GUROBI', 'GUROBI_CMD', 'MOSEK', 'XPRESS', 'XPRESS', 'XPRESS_PY', 'PULP_CBC_CMD', 'COIN_CMD', 'COINMP_DLL', 'CHOCO_CMD', 'MIPCL_CMD', 'SCIP_CMD', 'FSCIP_CMD', 'SCIP_PY', 'HiGHS', 'HiGHS_CMD', 'COPT', 'COPT_DLL', 'COPT_CMD']\n"
     ]
    }
   ],
   "source": [
    "solver_list = pp.listSolvers()\n",
    "print(\"Available Solvers:\", solver_list)"
   ]
  },
  {
   "cell_type": "code",
   "execution_count": 63,
   "id": "c37b9d7f-e485-408b-b6a5-15f357b2f6d6",
   "metadata": {
    "id": "636442d1-a48c-4a3a-a84d-9f2312f3d473"
   },
   "outputs": [
    {
     "data": {
      "text/plain": [
       "1"
      ]
     },
     "execution_count": 63,
     "metadata": {},
     "output_type": "execute_result"
    }
   ],
   "source": [
    "#solverToUse = pp.COIN_CMD(msg=False)\n",
    "model.solve();\n",
    "solverToUse = pp.PULP_CBC_CMD(msg=False)\n",
    "model.solve(solverToUse)"
   ]
  },
  {
   "cell_type": "markdown",
   "id": "7db07777-25b5-46c9-9d51-f1d0e3ceb709",
   "metadata": {
    "id": "7db07777-25b5-46c9-9d51-f1d0e3ceb709"
   },
   "source": [
    "Puedes crear un resumen como este:"
   ]
  },
  {
   "cell_type": "code",
   "execution_count": 65,
   "id": "b01c0a67-05c8-4d48-90fe-1a26dd24bd8a",
   "metadata": {
    "id": "3a0152d1-cdd5-4426-9ba6-90556a685048"
   },
   "outputs": [
    {
     "data": {
      "text/plain": [
       "{'Model Status': 'Optimal',\n",
       " 'Optimal Solution': 1.2,\n",
       " 'HappyHealth': 3.1304348,\n",
       " 'VegaVita': 1.3043478}"
      ]
     },
     "execution_count": 65,
     "metadata": {},
     "output_type": "execute_result"
    }
   ],
   "source": [
    "import pandas as pd\n",
    "\n",
    "Results={\"Model Status\":pp.LpStatus[model.status]}\n",
    "Results.update({\"Optimal Solution\":pp.value(model.objective)})\n",
    "Results.update({v.name: v.varValue for v in model.variables()})\n",
    "Results"
   ]
  },
  {
   "cell_type": "code",
   "execution_count": 67,
   "id": "c2b0b496-3682-416f-a62e-4ef710a5eaf0",
   "metadata": {
    "id": "651fadcc-cb30-4caa-98e4-f6215c0be7a9"
   },
   "outputs": [
    {
     "data": {
      "text/html": [
       "<style type=\"text/css\">\n",
       "</style>\n",
       "<table id=\"T_717a8\">\n",
       "  <thead>\n",
       "    <tr>\n",
       "      <th class=\"blank level0\" >&nbsp;</th>\n",
       "      <th id=\"T_717a8_level0_col0\" class=\"col_heading level0 col0\" >Optimal Solution</th>\n",
       "      <th id=\"T_717a8_level0_col1\" class=\"col_heading level0 col1\" >HappyHealth</th>\n",
       "      <th id=\"T_717a8_level0_col2\" class=\"col_heading level0 col2\" >VegaVita</th>\n",
       "    </tr>\n",
       "    <tr>\n",
       "      <th class=\"index_name level0\" >Model Status</th>\n",
       "      <th class=\"blank col0\" >&nbsp;</th>\n",
       "      <th class=\"blank col1\" >&nbsp;</th>\n",
       "      <th class=\"blank col2\" >&nbsp;</th>\n",
       "    </tr>\n",
       "  </thead>\n",
       "  <tbody>\n",
       "    <tr>\n",
       "      <th id=\"T_717a8_level0_row0\" class=\"row_heading level0 row0\" >Optimal</th>\n",
       "      <td id=\"T_717a8_row0_col0\" class=\"data row0 col0\" >1.2</td>\n",
       "      <td id=\"T_717a8_row0_col1\" class=\"data row0 col1\" >3.1304348</td>\n",
       "      <td id=\"T_717a8_row0_col2\" class=\"data row0 col2\" >1.3043478</td>\n",
       "    </tr>\n",
       "  </tbody>\n",
       "</table>\n"
      ],
      "text/plain": [
       "<pandas.io.formats.style.Styler at 0x1bb378dbe60>"
      ]
     },
     "execution_count": 67,
     "metadata": {},
     "output_type": "execute_result"
    }
   ],
   "source": [
    "#or\n",
    "pd.DataFrame.from_dict(Results,orient='index').T.set_index('Model Status').style.format('{:,}')"
   ]
  }
 ],
 "metadata": {
  "colab": {
   "provenance": []
  },
  "kernelspec": {
   "display_name": "Python 3 (ipykernel)",
   "language": "python",
   "name": "python3"
  },
  "language_info": {
   "codemirror_mode": {
    "name": "ipython",
    "version": 3
   },
   "file_extension": ".py",
   "mimetype": "text/x-python",
   "name": "python",
   "nbconvert_exporter": "python",
   "pygments_lexer": "ipython3",
   "version": "3.12.4"
  }
 },
 "nbformat": 4,
 "nbformat_minor": 5
}
